{
 "cells": [
  {
   "cell_type": "markdown",
   "id": "3fabcca4",
   "metadata": {},
   "source": [
    "<h1>Python fundamentals</h1>"
   ]
  },
  {
   "cell_type": "markdown",
   "id": "e95c8cf5",
   "metadata": {},
   "source": [
    "<h3>variables</h3>\n"
   ]
  },
  {
   "cell_type": "code",
   "execution_count": 1,
   "id": "7c17903c",
   "metadata": {},
   "outputs": [],
   "source": [
    "#integer\n",
    "i = 1\n",
    "#float\n",
    "f = 1.0\n",
    "# string\n",
    "c = \"c\"\n",
    "# string\n",
    "s = \"hello world!\"\n",
    "# string quotes\n",
    "t = \"i can`t believe it!\"\n",
    "# quotes in string \n",
    "u = 'Ian says \"hello\"!'\n",
    "# escaped quotes in strings\n",
    "v = \"Ian says \\\"hello\\\"\""
   ]
  },
  {
   "cell_type": "code",
   "execution_count": 9,
   "id": "bf953bff",
   "metadata": {},
   "outputs": [
    {
     "data": {
      "text/plain": [
       "'hello world'"
      ]
     },
     "execution_count": 9,
     "metadata": {},
     "output_type": "execute_result"
    }
   ],
   "source": [
    "s"
   ]
  },
  {
   "cell_type": "code",
   "execution_count": 15,
   "id": "fdb351f1",
   "metadata": {},
   "outputs": [
    {
     "ename": "NameError",
     "evalue": "name 't' is not defined",
     "output_type": "error",
     "traceback": [
      "\u001b[1;31m---------------------------------------------------------------------------\u001b[0m",
      "\u001b[1;31mNameError\u001b[0m                                 Traceback (most recent call last)",
      "\u001b[1;32m~\\AppData\\Local\\Temp/ipykernel_8424/3790515489.py\u001b[0m in \u001b[0;36m<module>\u001b[1;34m\u001b[0m\n\u001b[1;32m----> 1\u001b[1;33m \u001b[0mt\u001b[0m\u001b[1;33m\u001b[0m\u001b[1;33m\u001b[0m\u001b[0m\n\u001b[0m",
      "\u001b[1;31mNameError\u001b[0m: name 't' is not defined"
     ]
    }
   ],
   "source": [
    "t"
   ]
  },
  {
   "cell_type": "markdown",
   "id": "7bd80e2c",
   "metadata": {},
   "source": [
    "<h3> conditionals </h3>"
   ]
  },
  {
   "cell_type": "code",
   "execution_count": null,
   "id": "127b4690",
   "metadata": {},
   "outputs": [],
   "source": [
    "if i < 0:\n",
    "    print(i, \"is negative\")\n",
    "if (i % 2 == 0):\n",
    "    print(i, \"is even\")\n",
    "    print(\"another statement\")\n",
    "else:\n",
    "    print(i, \"is odd\")"
   ]
  },
  {
   "cell_type": "markdown",
   "id": "4ec23ebf",
   "metadata": {},
   "source": [
    "<H1>Lists</H1>"
   ]
  },
  {
   "cell_type": "code",
   "execution_count": 17,
   "id": "36313ddc",
   "metadata": {},
   "outputs": [],
   "source": [
    "r = [1, 2, 3]\n"
   ]
  },
  {
   "cell_type": "code",
   "execution_count": null,
   "id": "4cbb95c0",
   "metadata": {},
   "outputs": [],
   "source": [
    "for item in r:\n",
    "    print(item)\n",
    "    print(item * item)\n",
    "   \n",
    "print(\"thats all folks!\"\")"
   ]
  },
  {
   "cell_type": "code",
   "execution_count": null,
   "id": "bc6db6b8",
   "metadata": {},
   "outputs": [],
   "source": [
    "i = 10 \n",
    "while i > 0:\n",
    "    print(i)\n",
    "    i = i-1"
   ]
  },
  {
   "cell_type": "code",
   "execution_count": 19,
   "id": "9d0be67b",
   "metadata": {},
   "outputs": [
    {
     "data": {
      "text/plain": [
       "[0, 1, 2, 3, 4, 5, 6, 7, 8, 9]"
      ]
     },
     "execution_count": 19,
     "metadata": {},
     "output_type": "execute_result"
    }
   ],
   "source": [
    "list(range(10))"
   ]
  },
  {
   "cell_type": "code",
   "execution_count": 20,
   "id": "57f112f8",
   "metadata": {},
   "outputs": [
    {
     "ename": "SyntaxError",
     "evalue": "invalid syntax (Temp/ipykernel_8424/1847182061.py, line 1)",
     "output_type": "error",
     "traceback": [
      "\u001b[1;36m  File \u001b[1;32m\"C:\\Users\\Liam\\AppData\\Local\\Temp/ipykernel_8424/1847182061.py\"\u001b[1;36m, line \u001b[1;32m1\u001b[0m\n\u001b[1;33m    <h1>functions</h1>\u001b[0m\n\u001b[1;37m    ^\u001b[0m\n\u001b[1;31mSyntaxError\u001b[0m\u001b[1;31m:\u001b[0m invalid syntax\n"
     ]
    }
   ],
   "source": [
    "<h1>functions</h1>"
   ]
  },
  {
   "cell_type": "markdown",
   "id": "b9b59b63",
   "metadata": {},
   "source": [
    "<h1>functions</h1>"
   ]
  },
  {
   "cell_type": "code",
   "execution_count": null,
   "id": "d1928df7",
   "metadata": {},
   "outputs": [],
   "source": [
    "def square(i):\n",
    "return i * i\n"
   ]
  },
  {
   "cell_type": "code",
   "execution_count": null,
   "id": "55ced2b7",
   "metadata": {},
   "outputs": [],
   "source": [
    "def power(i, j=2):\n",
    "    result = l\n",
    "    for k in range(i, j):\n",
    "        result = result * i\n",
    "        return result\n",
    "    \n",
    "    \n",
    "\n",
    "\n",
    "  "
   ]
  }
 ],
 "metadata": {
  "kernelspec": {
   "display_name": "Python 3 (ipykernel)",
   "language": "python",
   "name": "python3"
  },
  "language_info": {
   "codemirror_mode": {
    "name": "ipython",
    "version": 3
   },
   "file_extension": ".py",
   "mimetype": "text/x-python",
   "name": "python",
   "nbconvert_exporter": "python",
   "pygments_lexer": "ipython3",
   "version": "3.9.7"
  }
 },
 "nbformat": 4,
 "nbformat_minor": 5
}
